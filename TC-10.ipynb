{
 "cells": [
  {
   "cell_type": "code",
   "execution_count": 1,
   "metadata": {},
   "outputs": [],
   "source": [
    "import cv2\n",
    "import numpy as np\n",
    "import matplotlib.pyplot as plt\n",
    "import reedsolo as rs\n",
    "from reedsolo import ReedSolomonError"
   ]
  },
  {
   "cell_type": "code",
   "execution_count": 2,
   "metadata": {},
   "outputs": [
    {
     "data": {
      "image/png": "[encoded data removed]",
      "text/plain": [
       "<Figure size 500x500 with 1 Axes>"
      ]
     },
     "metadata": {},
     "output_type": "display_data"
    }
   ],
   "source": [
    "def fill_missing_area(img, mask, method=cv2.INPAINT_TELEA):\n",
    "    return cv2.inpaint(img, mask, 3, method)\n",
    "\n",
    "img = cv2.imread(\"10-Gone-With-The-Wind.png\", cv2.IMREAD_GRAYSCALE)\n",
    "img = 255 - img\n",
    "_, img = cv2.threshold(img, 53, 255, cv2.THRESH_BINARY_INV)\n",
    "\n",
    "mask = np.zeros(img.shape, dtype=np.uint8)\n",
    "mask[0:int(img.shape[0]), int(img.shape[1]):img.shape[1]] = 255\n",
    "\n",
    "img = fill_missing_area(img, mask)\n",
    "\n",
    "fig = plt.figure(figsize=(5, 5));\n",
    "plt.xticks([], []);\n",
    "plt.yticks([], []);\n",
    "plt.imshow(img, cmap='gray');"
   ]
  },
  {
   "cell_type": "code",
   "execution_count": 3,
   "metadata": {},
   "outputs": [
    {
     "name": "stdout",
     "output_type": "stream",
     "text": [
      "(21, 21)\n"
     ]
    }
   ],
   "source": [
    "img = cv2.imread(\"10-Gone-With-The-Wind.png\", cv2.IMREAD_GRAYSCALE)\n",
    "\n",
    "start_row = -1\n",
    "start_col = -1\n",
    "end_row = -1\n",
    "end_col = -1\n",
    "\n",
    "for row_index, row in enumerate(img):\n",
    "    if (row != 255).any():\n",
    "        start_row = row_index\n",
    "        break\n",
    "\n",
    "for row_index, row in enumerate(img[::-1]):\n",
    "    if (row != 255).any():\n",
    "        end_row = img.shape[0] - row_index\n",
    "        break\n",
    "\n",
    "for col_index, col in enumerate(cv2.transpose(img)):\n",
    "    if (col != 255).any():\n",
    "        start_col = col_index\n",
    "        break\n",
    "\n",
    "for col_index, col in enumerate(cv2.transpose(img)[::-1]):\n",
    "    if (col != 255).any():\n",
    "        end_col = img.shape[1] - col_index\n",
    "        break\n",
    "\n",
    "img_no_quiet_zone = img[start_row:end_row, start_col:end_col]\n",
    "\n",
    "img_21x21_grid = cv2.resize(img_no_quiet_zone, (21, 21), interpolation=cv2.INTER_NEAREST) // 255\n",
    "\n",
    "print(img_21x21_grid.shape)"
   ]
  },
  {
   "cell_type": "code",
   "execution_count": 4,
   "metadata": {},
   "outputs": [],
   "source": [
    "MASKS = {\n",
    "    \"000\": lambda i, j: (i * j) % 2 + (i * j) % 3 == 0,\n",
    "    \"001\": lambda i, j: (i // 2 + j // 3) % 2 == 0,\n",
    "    \"010\": lambda i, j: ((i + j) % 2 + (i * j) % 3) % 2 == 0,\n",
    "    \"011\": lambda i, j: ((i * j) % 2 + (i * j) % 3) % 2 == 0,\n",
    "    \"100\": lambda i, j: i % 2 == 0,\n",
    "    \"101\": lambda i, j: (i + j) % 2 == 0,\n",
    "    \"110\": lambda i, j: (i + j) % 3 == 0,\n",
    "    \"111\": lambda i, j: j % 3 == 0,\n",
    "}\n",
    "\n",
    "UP8, UP4, DOWN8, DOWN4, CW8, CCW8 = range(6)"
   ]
  },
  {
   "cell_type": "code",
   "execution_count": 5,
   "metadata": {},
   "outputs": [],
   "source": [
    "def apply_mask_general(data_start_i, data_start_j, data, mask, direction):\n",
    "    result = []\n",
    "    row_offsets = []\n",
    "    col_offsets = []\n",
    "    mask_str = ''.join([str(c) for c in mask])\n",
    "    if (direction in [UP8, UP4]):\n",
    "        row_offsets = [0,  0, -1, -1, -2, -2, -3, -3]\n",
    "        col_offsets = [0, -1,  0, -1,  0, -1,  0, -1]\n",
    "    if (direction in [DOWN8, DOWN4]):\n",
    "        row_offsets = [0,  0,  1,  1,  2,  2,  3,  3]\n",
    "        col_offsets = [0, -1,  0, -1,  0, -1,  0, -1]\n",
    "    if (direction == CW8):\n",
    "        row_offsets = [0,  0,  1,  1,  1,  1,  0,  0]\n",
    "        col_offsets = [0, -1,  0, -1, -2, -3, -2, -3]\n",
    "    if (direction == CCW8):\n",
    "        row_offsets = [0,  0, -1, -1, -1, -1,  0,  0]\n",
    "        col_offsets = [0, -1,  0, -1, -2, -3, -2, -3]\n",
    "    for i, j in zip(row_offsets, col_offsets):\n",
    "        cell_bit = bool(data[data_start_i+i, data_start_j+j])\n",
    "        mask_bit = MASKS[mask_str](data_start_i+i, data_start_j+j)\n",
    "        \n",
    "        result.append(int(not cell_bit if mask_bit else cell_bit))\n",
    "    return result[:4] if direction in [UP4, DOWN4] else result"
   ]
  },
  {
   "cell_type": "code",
   "execution_count": 6,
   "metadata": {},
   "outputs": [
    {
     "name": "stdout",
     "output_type": "stream",
     "text": [
      "ECL = [1 1]\n",
      "MASK = [1 1 1]\n",
      "ENC = [1, 1, 1, 1]\n",
      "LEN = [1, 1, 1, 1, 1, 1, 1, 1] = 255 data symbols, each consisting of 8 bits\n"
     ]
    }
   ],
   "source": [
    "img_21x21_grid_inv = 1 - img_21x21_grid\n",
    "ecl = img_21x21_grid_inv[8, 0:2]\n",
    "mask = img_21x21_grid_inv[8, 2:5]\n",
    "enc_bits = apply_mask_general(21-1, 21-1, img_21x21_grid_inv, mask, UP4)\n",
    "len_bits = apply_mask_general(21-3, 21-1, img_21x21_grid_inv, mask, UP8)\n",
    "len_int = int(''.join([str(bit) for bit in len_bits]), 2)\n",
    "print(f'ECL = {ecl}\\nMASK = {mask}\\nENC = {enc_bits}\\nLEN = {len_bits} = {len_int} data symbols, each consisting of 8 bits')"
   ]
  },
  {
   "cell_type": "code",
   "execution_count": 7,
   "metadata": {},
   "outputs": [],
   "source": [
    "block_starting_indices = [\n",
    "    [21-7,  21-1,  UP8],\n",
    "    [21-11, 21-1,  CCW8],\n",
    "    [21-10, 21-3,  DOWN8],\n",
    "    [21-6,  21-3,  DOWN8],\n",
    "    [21-2,  21-3,  CW8],\n",
    "    [21-3,  21-5,  UP8],\n",
    "    [21-7,  21-5,  UP8],\n",
    "    [21-11, 21-5,  CCW8],\n",
    "    [21-10, 21-7,  DOWN8],\n",
    "    [21-6,  21-7,  DOWN8],\n",
    "    [21-2,  21-7,  CW8],\n",
    "    [21-3,  21-9,  UP8],\n",
    "    [21-7,  21-9,  UP8],\n",
    "    [21-11, 21-9,  UP8],\n",
    "    [21-16, 21-9,  UP8],\n",
    "    [21-20, 21-9,  CCW8],\n",
    "    [21-19, 21-11, DOWN8],\n",
    "    [21-14, 21-11, DOWN4],  \n",
    "    [21-12, 21-11, DOWN8],\n",
    "    [21-8,  21-11, DOWN8],\n",
    "    [21-4,  21-11, DOWN8],\n",
    "    [21-9,  21-13, UP8],\n",
    "    [21-12, 21-16, DOWN8],\n",
    "    [21-9,  21-18, UP8],\n",
    "    [21-12, 21-20, DOWN8],\n",
    "]"
   ]
  },
  {
   "cell_type": "code",
   "execution_count": 8,
   "metadata": {},
   "outputs": [
    {
     "name": "stdout",
     "output_type": "stream",
     "text": [
      "11111111 (=255) = ÿ\n",
      "11110101 (=245) = õ\n",
      "01010101 (=085) = U\n",
      "01010101 (=085) = U\n",
      "01011010 (=090) = Z\n",
      "10101010 (=170) = ª\n",
      "10101010 (=170) = ª\n",
      "10101111 (=175) = ¯\n",
      "11111111 (=255) = ÿ\n",
      "11111111 (=255) = ÿ\n",
      "11110101 (=245) = õ\n",
      "01010101 (=085) = U\n",
      "01010101 (=085) = U\n",
      "01010101 (=085) = U\n",
      "01010101 (=085) = U\n",
      "01011010 (=090) = Z\n",
      "10101010 (=170) = ª\n",
      "1010 (=010) = \n",
      "\n",
      "10101010 (=170) = ª\n",
      "10101010 (=170) = ª\n",
      "10101010 (=170) = ª\n",
      "11111111 (=255) = ÿ\n",
      "11111111 (=255) = ÿ\n",
      "01010101 (=085) = U\n",
      "10101010 (=170) = ª\n"
     ]
    },
    {
     "ename": "IndexError",
     "evalue": "list index out of range",
     "output_type": "error",
     "traceback": [
      "\u001b[1;31m---------------------------------------------------------------------------\u001b[0m",
      "\u001b[1;31mIndexError\u001b[0m                                Traceback (most recent call last)",
      "Cell \u001b[1;32mIn[8], line 7\u001b[0m\n\u001b[0;32m      5\u001b[0m byte_index \u001b[38;5;241m=\u001b[39m \u001b[38;5;241m0\u001b[39m\n\u001b[0;32m      6\u001b[0m \u001b[38;5;28;01mfor\u001b[39;00m _ \u001b[38;5;129;01min\u001b[39;00m \u001b[38;5;28mrange\u001b[39m(len_int):\n\u001b[1;32m----> 7\u001b[0m     start_i, start_j, \u001b[38;5;28mdir\u001b[39m \u001b[38;5;241m=\u001b[39m \u001b[43mblock_starting_indices\u001b[49m\u001b[43m[\u001b[49m\u001b[43mbyte_index\u001b[49m\u001b[43m]\u001b[49m\n\u001b[0;32m      8\u001b[0m     bits \u001b[38;5;241m=\u001b[39m apply_mask_general(start_i, start_j, img_21x21_grid_inv, mask, \u001b[38;5;28mdir\u001b[39m)\n\u001b[0;32m      9\u001b[0m     message_bits\u001b[38;5;241m.\u001b[39mextend(bits)\n",
      "\u001b[1;31mIndexError\u001b[0m: list index out of range"
     ]
    }
   ],
   "source": [
    "message_bits = []\n",
    "message_bits.extend(enc_bits)\n",
    "message_bits.extend(len_bits)\n",
    "\n",
    "byte_index = 0\n",
    "for _ in range(len_int):\n",
    "    start_i, start_j, dir = block_starting_indices[byte_index]\n",
    "    bits = apply_mask_general(start_i, start_j, img_21x21_grid_inv, mask, dir)\n",
    "    message_bits.extend(bits)\n",
    "    bit_string = ''.join([str(bit) for bit in bits])\n",
    "    alpha_char = chr(int(bit_string, 2))\n",
    "    print(f'{bit_string} (={int(bit_string, 2):03d}) = {alpha_char}')\n",
    "    byte_index += 1\n",
    "\n",
    "start_i, start_j, dir = block_starting_indices[byte_index]\n",
    "bits = apply_mask_general(start_i, start_j, img_21x21_grid_inv, mask, dir)\n",
    "message_bits.extend(bits)\n",
    "bit_string = ''.join([str(bit) for bit in bits])\n",
    "print(f'{bit_string} (=END) -- the NULL TERMINATOR, followed by padding and/or ECC')\n",
    "byte_index += 1\n",
    "\n",
    "for _ in range(25 - len_int - 1):\n",
    "    start_i, start_j, dir = block_starting_indices[byte_index]\n",
    "    bits = apply_mask_general(start_i, start_j, img_21x21_grid_inv, mask, dir)\n",
    "    message_bits.extend(bits)\n",
    "    bit_string = ''.join([str(bit) for bit in bits])\n",
    "    alpha_char = chr(int(bit_string, 2))\n",
    "    print(f'{bit_string} (={int(bit_string, 2):03d}) = {alpha_char}')\n",
    "    byte_index += 1"
   ]
  }
 ],
 "metadata": {
  "kernelspec": {
   "display_name": "Python 3",
   "language": "python",
   "name": "python3"
  },
  "language_info": {
   "codemirror_mode": {
    "name": "ipython",
    "version": 3
   },
   "file_extension": ".py",
   "mimetype": "text/x-python",
   "name": "python",
   "nbconvert_exporter": "python",
   "pygments_lexer": "ipython3",
   "version": "3.11.3"
  }
 },
 "nbformat": 4,
 "nbformat_minor": 2
}
