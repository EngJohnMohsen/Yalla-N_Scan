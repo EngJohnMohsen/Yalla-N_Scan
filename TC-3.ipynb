{
 "cells": [
  {
   "cell_type": "code",
   "execution_count": 11,
   "metadata": {},
   "outputs": [],
   "source": [
    "import cv2\n",
    "import numpy as np\n",
    "import matplotlib.pyplot as plt\n",
    "import reedsolo as rs\n",
    "from reedsolo import ReedSolomonError"
   ]
  },
  {
   "cell_type": "markdown",
   "metadata": {},
   "source": [
    "Test Case 3"
   ]
  },
  {
   "cell_type": "code",
   "execution_count": 12,
   "metadata": {},
   "outputs": [
    {
     "data": {
      "image/png": "[encoded data removed]",
      "text/plain": [
       "<Figure size 500x500 with 1 Axes>"
      ]
     },
     "metadata": {},
     "output_type": "display_data"
    }
   ],
   "source": [
    "img3 = cv2.imread(\"03-Leffy-bina-ya-donya.png\", cv2.IMREAD_GRAYSCALE)\n",
    "img3 = cv2.rotate(img3, cv2.ROTATE_180)\n",
    "fig = plt.figure(figsize=(5, 5));\n",
    "plt.xticks([], []);\n",
    "plt.yticks([], []);\n",
    "plt.imshow(img3, cmap='gray');"
   ]
  },
  {
   "cell_type": "code",
   "execution_count": 13,
   "metadata": {},
   "outputs": [
    {
     "name": "stdout",
     "output_type": "stream",
     "text": [
      "44 968 44 968\n"
     ]
    }
   ],
   "source": [
    "start_row = -1\n",
    "start_col = -1\n",
    "end_row = -1\n",
    "end_col = -1\n",
    "\n",
    "for row_index, row in enumerate(img3):\n",
    "    for pixel in row:\n",
    "        if pixel != 255:\n",
    "            start_row = row_index\n",
    "            break\n",
    "    if start_row != -1:\n",
    "        break\n",
    "\n",
    "for row_index, row in enumerate(img3[::-1]):\n",
    "    for pixel in row:\n",
    "        if pixel != 255:\n",
    "            end_row = img3.shape[0] - row_index\n",
    "            break\n",
    "    if end_row != -1:\n",
    "        break\n",
    "\n",
    "for col_index, col in enumerate(cv2.transpose(img3)):\n",
    "    for pixel in col:\n",
    "        if pixel != 255:\n",
    "            start_col = col_index\n",
    "            break\n",
    "    if start_col != -1:\n",
    "        break\n",
    "\n",
    "for col_index, col in enumerate(cv2.transpose(img3)[::-1]):\n",
    "    for pixel in col:\n",
    "        if pixel != 255:\n",
    "            end_col = img3.shape[1] - col_index\n",
    "            break\n",
    "    if end_col != -1:\n",
    "        break\n",
    "\n",
    "print(start_row, end_row, start_col, end_col)"
   ]
  },
  {
   "cell_type": "code",
   "execution_count": 14,
   "metadata": {},
   "outputs": [
    {
     "data": {
      "image/png": "[encoded data removed]",
      "text/plain": [
       "<Figure size 500x500 with 1 Axes>"
      ]
     },
     "metadata": {},
     "output_type": "display_data"
    }
   ],
   "source": [
    "qr_no_quiet_zone_3 = img3[start_row:end_row, start_col:end_col]\n",
    "fig = plt.figure(figsize=(5, 5));\n",
    "plt.xticks([], []);\n",
    "plt.yticks([], []);\n",
    "fig.get_axes()[0].spines[:].set_color('red');\n",
    "fig.get_axes()[0].spines[:].set_linewidth(40);\n",
    "fig.get_axes()[0].spines[:].set_position((\"outward\", 20))\n",
    "plt.title('QR code without quiet zone', y = 1.15, color='red');\n",
    "plt.imshow(qr_no_quiet_zone_3, cmap='gray');"
   ]
  },
  {
   "cell_type": "code",
   "execution_count": 15,
   "metadata": {},
   "outputs": [
    {
     "name": "stdout",
     "output_type": "stream",
     "text": [
      "size: 308\n",
      "grid cell size: 44\n",
      "grid cell num: 21\n",
      "shape: (924, 924)\n",
      "qr cells: (21, 21, 44, 44)\n",
      "qr cells numeric:\n",
      " [[0 0 0 0 0 0 0 1 1 1 0 1 1 1 0 0 0 0 0 0 0]\n",
      " [0 1 1 1 1 1 0 1 0 1 0 1 1 1 0 1 1 1 1 1 0]\n",
      " [0 1 0 0 0 1 0 1 0 1 0 1 0 1 0 1 0 0 0 1 0]\n",
      " [0 1 0 0 0 1 0 1 1 0 1 0 0 1 0 1 0 0 0 1 0]\n",
      " [0 1 0 0 0 1 0 1 0 0 0 0 1 1 0 1 0 0 0 1 0]\n",
      " [0 1 1 1 1 1 0 1 0 0 0 0 1 1 0 1 1 1 1 1 0]\n",
      " [0 0 0 0 0 0 0 1 0 1 0 1 0 1 0 0 0 0 0 0 0]\n",
      " [1 1 1 1 1 1 1 1 0 1 1 0 0 1 1 1 1 1 1 1 1]\n",
      " [0 0 1 0 1 1 0 0 1 1 0 1 1 1 0 0 0 1 0 0 1]\n",
      " [1 1 1 0 0 1 1 0 0 1 0 0 0 1 0 0 0 1 1 0 0]\n",
      " [0 1 1 1 0 1 0 1 1 1 0 0 0 0 1 0 1 0 0 1 0]\n",
      " [0 0 0 0 1 0 1 1 0 1 1 0 0 1 0 1 1 0 1 0 0]\n",
      " [1 0 1 0 1 1 0 1 1 1 1 0 1 1 1 1 1 1 1 0 1]\n",
      " [1 1 1 1 1 1 1 1 0 0 1 0 0 1 1 0 1 1 1 1 1]\n",
      " [0 0 0 0 0 0 0 1 0 1 1 1 0 0 1 0 0 0 1 0 1]\n",
      " [0 1 1 1 1 1 0 1 1 0 0 0 1 1 1 0 0 1 1 0 1]\n",
      " [0 1 0 0 0 1 0 1 1 0 0 0 0 1 0 1 1 1 1 0 0]\n",
      " [0 1 0 0 0 1 0 1 0 1 0 1 1 0 1 0 1 0 1 1 0]\n",
      " [0 1 0 0 0 1 0 1 1 0 0 0 0 0 0 0 0 1 1 1 0]\n",
      " [0 1 1 1 1 1 0 1 0 1 0 1 1 0 1 1 0 1 1 1 1]\n",
      " [0 0 0 0 0 0 0 1 0 0 0 0 0 1 0 1 1 1 1 0 1]]\n"
     ]
    }
   ],
   "source": [
    "size = 0\n",
    "for pixel in qr_no_quiet_zone_3[0]:\n",
    "    if (pixel != 0): break\n",
    "    size += 1\n",
    "\n",
    "print(f'size: {size}')\n",
    "\n",
    "grid_cell_size_3 = round(size/7)\n",
    "print(f'grid cell size: {grid_cell_size_3}')\n",
    "\n",
    "grid_cells_num = round(qr_no_quiet_zone_3.shape[0]/grid_cell_size_3)\n",
    "print(f'grid cell num: {grid_cells_num}')\n",
    "\n",
    "print(f'shape: {qr_no_quiet_zone_3.shape}')\n",
    "\n",
    "qr_cells_3 = qr_no_quiet_zone_3.reshape((\n",
    "    grid_cells_num,\n",
    "    grid_cell_size_3,\n",
    "    grid_cells_num,\n",
    "    grid_cell_size_3,\n",
    ")).swapaxes(1, 2)\n",
    "print(f'qr cells: {qr_cells_3.shape}')\n",
    "\n",
    "qr_cells_numeric_3 = np.ndarray((grid_cells_num, grid_cells_num), dtype=np.uint8)\n",
    "for i, row in enumerate(qr_cells_3):\n",
    "    for j, cell in enumerate(row):\n",
    "        qr_cells_numeric_3[i, j] = (np.median(cell) // 255)\n",
    "\n",
    "print(f'qr cells numeric:\\n {qr_cells_numeric_3}')\n"
   ]
  },
  {
   "cell_type": "code",
   "execution_count": 16,
   "metadata": {},
   "outputs": [
    {
     "data": {
      "text/plain": [
       "array([0, 0, 1, 0, 1, 1, 0, 0, 1, 1, 0, 1, 1, 1, 0, 0, 0, 1, 0, 0, 1],\n",
       "      dtype=uint8)"
      ]
     },
     "execution_count": 16,
     "metadata": {},
     "output_type": "execute_result"
    }
   ],
   "source": [
    "qr_cells_numeric_3[8]"
   ]
  },
  {
   "cell_type": "code",
   "execution_count": 17,
   "metadata": {},
   "outputs": [
    {
     "name": "stdout",
     "output_type": "stream",
     "text": [
      "ecl: [1, 1]\n",
      "mask: [0, 1, 0]\n",
      "fec: [0, 1, 0, 1, 1, 0, 1, 1, 1, 0]\n",
      "after XOR: ([0, 1], [1, 1, 1], [0, 1, 0, 1, 1, 1, 1, 1, 0, 0])\n"
     ]
    }
   ],
   "source": [
    "ecl3 = [int(not(c)) for c in qr_cells_numeric_3[8, 0:2]]\n",
    "print(f'ecl: {ecl3}')\n",
    "\n",
    "\n",
    "MASKS = {\n",
    "    \"000\": lambda i, j: (i * j) % 2 + (i * j) % 3 == 0,\n",
    "    \"001\": lambda i, j: (i / 2 + j / 3) % 2 == 0,\n",
    "    \"010\": lambda i, j: ((i * j) % 3 + i + j) % 2 == 0,\n",
    "    \"011\": lambda i, j: ((i * j) % 3 + i * j) % 2 == 0,\n",
    "    \"100\": lambda i, j: i % 2 == 0,\n",
    "    \"101\": lambda i, j: (i + j) % 2 == 0,\n",
    "    \"110\": lambda i, j: (i + j) % 3 == 0,\n",
    "    \"111\": lambda i, j: j % 3 == 0,\n",
    "}\n",
    "\n",
    "\n",
    "mask3 = [int(not(c)) for c in qr_cells_numeric_3[8, 2:5]]\n",
    "mask_str = ''.join([str(c) for c in mask3])\n",
    "print(f'mask: {mask3}')\n",
    "\n",
    "fec3 = []\n",
    "fec3.append(qr_cells_numeric_3[8, 5])\n",
    "fec3.append(qr_cells_numeric_3[8, 7])\n",
    "fec3.extend(qr_cells_numeric_3[0:6, 8])\n",
    "fec3.extend(qr_cells_numeric_3[7:9, 8])\n",
    "fec3 = [int(not(c)) for c in fec3]\n",
    "print(f'fec: {fec3}')\n",
    "\n",
    "\n",
    "ecl3[0] ^= 1\n",
    "mask3[0] ^= 1\n",
    "mask3[2] ^= 1\n",
    "fec3[5] ^= 1\n",
    "fec3[8] ^= 1\n",
    "\n",
    "\n",
    "print(f'after XOR: {ecl3, mask3, fec3}')"
   ]
  },
  {
   "cell_type": "code",
   "execution_count": 18,
   "metadata": {},
   "outputs": [],
   "source": [
    "UP, UP_ENC, DOWN, CW, CCW = range(5)  \n",
    "\n",
    "def apply_mask(data_start_i, data_start_j, direction):\n",
    "    '''\n",
    "    data_start_i/j represent the first cell's coords in its respective direction\n",
    "    direction is the masking direction, up(-enc)/down/clockwise/anti-clockwise\n",
    "    '''\n",
    "    result = []\n",
    "    row_offsets = []\n",
    "    col_offsets = []\n",
    "    if (direction in [UP, UP_ENC]):\n",
    "        row_offsets = [0,  0, -1, -1, -2, -2, -3, -3]\n",
    "        col_offsets = [0, -1,  0, -1,  0, -1,  0, -1]\n",
    "    if (direction == DOWN):\n",
    "        row_offsets = [0,  0,  1,  1,  2,  2,  3,  3]\n",
    "        col_offsets = [0, -1,  0, -1,  0, -1,  0, -1]\n",
    "    if (direction == CW):\n",
    "        row_offsets = [0,  0,  1,  1,  1,  1,  0,  0]\n",
    "        col_offsets = [0, -1,  0, -1, -2, -3, -2, -3]\n",
    "    if (direction == CCW):\n",
    "        row_offsets = [0,  0, -1, -1, -1, -1,  0,  0]\n",
    "        col_offsets = [0, -1,  0, -1, -2, -3, -2, -3]\n",
    "\n",
    "    for i, j in zip(row_offsets, col_offsets):\n",
    "        cell = qr_cells_numeric_3[data_start_i+i, data_start_j+j]\n",
    "        result.append(int(cell if MASKS[mask_str](data_start_i+i, data_start_j+j) else not cell))\n",
    "\n",
    "    return result[:4] if direction == UP_ENC else result"
   ]
  },
  {
   "cell_type": "code",
   "execution_count": 19,
   "metadata": {},
   "outputs": [
    {
     "name": "stdout",
     "output_type": "stream",
     "text": [
      "enc bits: [0, 1, 0, 0] = Byte encoding (8 bits per character)\n",
      "len bits: [0, 0, 0, 1, 0, 0, 0, 0] = 16 data symbols, each consisting of 8 bits\n"
     ]
    }
   ],
   "source": [
    "enc_bits = apply_mask(grid_cells_num-1, grid_cells_num-1, UP_ENC)\n",
    "enc_int = int(''.join([str(bit) for bit in enc_bits]), 2)\n",
    "print(f'enc bits: {enc_bits} = Byte encoding (8 bits per character)')\n",
    "\n",
    "len_bits = apply_mask(grid_cells_num-3, grid_cells_num-1, UP)\n",
    "len_int = int(''.join([str(bit) for bit in len_bits]), 2)\n",
    "print(f'len bits: {len_bits} = {len_int} data symbols, each consisting of 8 bits')"
   ]
  },
  {
   "cell_type": "code",
   "execution_count": 20,
   "metadata": {},
   "outputs": [
    {
     "name": "stdout",
     "output_type": "stream",
     "text": [
      "01001100 (=076) = L\n",
      "01100101 (=101) = e\n",
      "01100110 (=102) = f\n",
      "01100110 (=102) = f\n",
      "01111001 (=121) = y\n",
      "01000010 (=066) = B\n",
      "01101001 (=105) = i\n",
      "01101110 (=110) = n\n",
      "01100001 (=097) = a\n",
      "01011001 (=089) = Y\n",
      "01100001 (=097) = a\n",
      "01000100 (=068) = D\n",
      "01101111 (=111) = o\n",
      "01101110 (=110) = n\n",
      "01111001 (=121) = y\n",
      "01100001 (=097) = a\n",
      "0000...         = NULL TERMINATOR (END Symbol, SKIP!)\n",
      "00001110 (=014) = \u000e\n",
      "11001110 (=206) = Î\n",
      "11100110 (=230) = æ\n",
      "10101011 (=171) = «\n",
      "11010101 (=213) = Õ\n",
      "10011110 (=158) = \n",
      "11011001 (=217) = Ù\n",
      "11000100 (=196) = Ä\n",
      "10100111 (=167) = §\n",
      "\n",
      "i.e., the data and ECCs in the QR code as-is are \"LeffyBinaYaDonyaÎæ«ÕÙÄ§\"\n",
      "\n",
      "Now decoding...\n",
      "\n",
      "This codec can correct up to 3 errors and 7 erasures independently\n",
      "Decoded message = \"A\u0004ÆVfg&æ\u0015\u0014Föç\u0010ì\"\n",
      "Decoded ECCs    = \"æ«ÕÙÄ§\"\n",
      "Data in message = \"LeffyBinaYaDonya\u000e\"\n",
      "Data should be... \"LeffyBinaYaDonya\"\n"
     ]
    }
   ],
   "source": [
    "data_starting_indices = [\n",
    "    [grid_cells_num-7,  grid_cells_num-1,  UP],    #    w    /     H\n",
    "    [grid_cells_num-11, grid_cells_num-1,  CCW],   #    w    /     e\n",
    "    [grid_cells_num-10, grid_cells_num-3,  DOWN],  #    w    /     l\n",
    "    [grid_cells_num-6,  grid_cells_num-3,  DOWN],  #    .    /     l\n",
    "    [grid_cells_num-2,  grid_cells_num-3,  CW],    #    w    /     o\n",
    "    [grid_cells_num-3,  grid_cells_num-5,  UP],    #    i    /     ,\n",
    "    [grid_cells_num-7,  grid_cells_num-5,  UP],    #    k    /  (space)\n",
    "    [grid_cells_num-11, grid_cells_num-5,  CCW],   #    i    /     Q\n",
    "    [grid_cells_num-10, grid_cells_num-7,  DOWN],  #    p    /     R\n",
    "    [grid_cells_num-6,  grid_cells_num-7,  DOWN],  #    e    /  (space)\n",
    "    [grid_cells_num-2,  grid_cells_num-7,  CW],    #    d    /     W\n",
    "    [grid_cells_num-3,  grid_cells_num-9,  UP],    #    i    /     o\n",
    "    [grid_cells_num-7,  grid_cells_num-9,  UP],    #    a    /     r\n",
    "    [grid_cells_num-11, grid_cells_num-9,  UP],    #    .    /     l\n",
    "    [grid_cells_num-16, grid_cells_num-9,  UP],    #    o    /     d\n",
    "    [grid_cells_num-20, grid_cells_num-9,  CCW],   #    r    /     !\n",
    "    [grid_cells_num-19, grid_cells_num-11, DOWN],  #    g    /     1\n",
    "    [grid_cells_num-14, grid_cells_num-11, DOWN],  # End of message (Terminator)\n",
    "    [grid_cells_num-12, grid_cells_num-11, DOWN],  # E1\n",
    "    [grid_cells_num-8,  grid_cells_num-11, DOWN],  # E2\n",
    "    [grid_cells_num-4,  grid_cells_num-11, DOWN],  # E3\n",
    "    [grid_cells_num-9,  grid_cells_num-13, UP],    # E4\n",
    "    [grid_cells_num-12, grid_cells_num-16, DOWN],  # E5\n",
    "    [grid_cells_num-9,  grid_cells_num-18, UP],    # E6\n",
    "    [grid_cells_num-12, grid_cells_num-20, DOWN],  # E7\n",
    "]\n",
    "\n",
    "message_bits = []\n",
    "message_bits.extend(enc_bits)\n",
    "message_bits.extend(len_bits)\n",
    "extracted_data_no_error_correction = ''\n",
    "for a, b, d in data_starting_indices:  # For each starting index and direction\n",
    "    bits = apply_mask(a, b, d)  # Extract the bits per the indexed QR code symbol\n",
    "    bit_string = ''.join([str(bit) for bit in bits])  # Convert to string of bits\n",
    "    alpha_char = chr(int(bit_string, 2))  # Convert binary to int, then to a char\n",
    "    if bit_string[:4] == \"0000\":  # If the first 4 bits are 0s, this is the END\n",
    "        print(f'{bit_string[:4]}...         = NULL TERMINATOR (END Symbol, SKIP!)')\n",
    "        message_bits.extend(bits[:4])  # Append only the four bits\n",
    "    else:  # If not the END symbol, append full set of bits\n",
    "        message_bits.extend(bits)\n",
    "        extracted_data_no_error_correction += alpha_char\n",
    "    print(f'{bit_string} (={int(bit_string, 2):03d}) = {alpha_char}')\n",
    "\n",
    "print(f'\\ni.e., the data and ECCs in the QR code as-is are \"{extracted_data_no_error_correction}\"')\n",
    "\n",
    "# For every 8 bits in the extracted message, convert to a byte\n",
    "message_bytes = [int(\"\".join(map(str, message_bits[i:i+8])), 2) for i in range(0, len(message_bits), 8)]\n",
    "\n",
    "# Create the Reed-Solomon Codec for 7 ECC symbols\n",
    "rsc = rs.RSCodec(nsym=7)\n",
    "\n",
    "# Decode the bytes with the 7-ECC RS Codec\n",
    "message_decoded = rsc.decode(message_bytes)\n",
    "print('\\nNow decoding...\\n')\n",
    "rsc.maxerrata(verbose=True)\n",
    "print(f'Decoded message = \"{message_decoded[0].decode(encoding=\"iso-8859-1\")}\"')\n",
    "print(f'Decoded ECCs    = \"{message_decoded[1][-7:].decode(encoding=\"iso-8859-1\")}\"')\n",
    "\n",
    "# In order to extract the actual data, need to convert back to bits and...\n",
    "# ...remove the initial 12 bits (enc and len) and last 4 bits (terminator)\n",
    "data_bits = bin(int.from_bytes(message_decoded[0], byteorder='big'))[13:-4]\n",
    "\n",
    "# Now convert back to bytes and print it lol\n",
    "data_bytes = int(data_bits, 2).to_bytes((len(data_bits)+7)//8, 'big')\n",
    "print(f'Data in message = \"{data_bytes.decode(encoding=\"iso-8859-1\")}\"')\n",
    "print(f'Data should be... \"LeffyBinaYaDonya\"')"
   ]
  }
 ],
 "metadata": {
  "kernelspec": {
   "display_name": "Python 3",
   "language": "python",
   "name": "python3"
  },
  "language_info": {
   "codemirror_mode": {
    "name": "ipython",
    "version": 3
   },
   "file_extension": ".py",
   "mimetype": "text/x-python",
   "name": "python",
   "nbconvert_exporter": "python",
   "pygments_lexer": "ipython3",
   "version": "3.11.3"
  }
 },
 "nbformat": 4,
 "nbformat_minor": 2
}
