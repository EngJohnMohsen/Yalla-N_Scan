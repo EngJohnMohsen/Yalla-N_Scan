{
 "cells": [
  {
   "cell_type": "code",
   "execution_count": 1,
   "metadata": {},
   "outputs": [],
   "source": [
    "import cv2\n",
    "import numpy as np\n",
    "import matplotlib.pyplot as plt\n",
    "import reedsolo as rs\n",
    "from reedsolo import ReedSolomonError"
   ]
  },
  {
   "cell_type": "code",
   "execution_count": 2,
   "metadata": {},
   "outputs": [
    {
     "data": {
      "image/png": "[encoded data removed]",
      "text/plain": [
       "<Figure size 500x500 with 1 Axes>"
      ]
     },
     "metadata": {},
     "output_type": "display_data"
    }
   ],
   "source": [
    "img = cv2.imread(\"04-Black-mirror.png\")\n",
    "img = 255 - img\n",
    "_, img = cv2.threshold(img, 200, 255, cv2.THRESH_BINARY)\n",
    "img = cv2.flip(img, 1)\n",
    "fig = plt.figure(figsize=(5, 5));\n",
    "plt.xticks([], []);\n",
    "plt.yticks([], []);\n",
    "plt.imshow(img, cmap='gray');"
   ]
  },
  {
   "cell_type": "code",
   "execution_count": 9,
   "metadata": {},
   "outputs": [
    {
     "name": "stdout",
     "output_type": "stream",
     "text": [
      "(21, 21)\n"
     ]
    },
    {
     "data": {
      "image/png": "[encoded data removed]",
      "text/plain": [
       "<Figure size 300x300 with 1 Axes>"
      ]
     },
     "metadata": {},
     "output_type": "display_data"
    }
   ],
   "source": [
    "#_, img4 = cv2.threshold(cv2.imread(\"04-Black-mirror.png\", cv2.IMREAD_GRAYSCALE), 128, 255, cv2.THRESH_BINARY);\n",
    "\n",
    "img4 = cv2.imread(\"04-Black-mirror.png\", cv2.IMREAD_GRAYSCALE)\n",
    "\n",
    "##Invert the grayscale image\n",
    "inverted_img = cv2.bitwise_not(img4) \n",
    "#rotated_img= cv2.rotate(inverted_img, cv2.ROTATE_180)\n",
    "\n",
    "rotated_img = cv2.rotate(inverted_img, cv2.ROTATE_90_CLOCKWISE)\n",
    "rotated_img = cv2.rotate(rotated_img, cv2.ROTATE_180)\n",
    "\n",
    "start_row = -1\n",
    "start_col = -1\n",
    "end_row = -1\n",
    "end_col = -1\n",
    "\n",
    "for row_index, row in enumerate(img4):\n",
    "    if (row != 255).any():\n",
    "        start_row = row_index\n",
    "        break\n",
    "\n",
    "for row_index, row in enumerate(img4[::-1]):\n",
    "    if (row != 255).any():\n",
    "        end_row = img4.shape[0] - row_index\n",
    "        break\n",
    "\n",
    "for col_index, col in enumerate(cv2.transpose(img4)):\n",
    "    if (col != 255).any():\n",
    "        start_col = col_index\n",
    "        break\n",
    "\n",
    "for col_index, col in enumerate(cv2.transpose(img4)[::-1]):\n",
    "    if (col != 255).any():\n",
    "        end_col = img4.shape[1] - col_index\n",
    "        break\n",
    "\n",
    "img_4_no_quiet_zone = rotated_img[start_row:end_row, start_col:end_col]\n",
    "\n",
    "# Alternative method to get the grid directly\n",
    "# I directly resize it to 21x21 and use something like the replacement downscaling geometric transformation\n",
    "# So for each collection of pixels, only one pixel survives, and since this is a perfect test case, it works\n",
    "# In non-perfect test cases, you'd have needed to do some more steps to ensure correct replacement is done\n",
    "img_4_21x21_grid = cv2.resize(img_4_no_quiet_zone, (21, 21), interpolation=cv2.INTER_NEAREST) // 255\n",
    "\n",
    "fig = plt.figure(figsize=(3, 3));\n",
    "plt.xticks([], []);\n",
    "plt.yticks([], []);\n",
    "plt.imshow(img_4_21x21_grid, cmap='gray');\n",
    "print(img_4_21x21_grid.shape)"
   ]
  },
  {
   "cell_type": "code",
   "execution_count": 10,
   "metadata": {},
   "outputs": [],
   "source": [
    "# Dictionary of all masks and their equivalent formulae\n",
    "# P.S. I modified them to account for that I skipped the FEC mask part above\n",
    "# If you will do it, do not XOR the mask if you wish to use this MASKS table\n",
    "MASKS = {\n",
    "    \"000\": lambda i, j: (i * j) % 2 + (i * j) % 3 == 0,\n",
    "    \"001\": lambda i, j: (i // 2 + j // 3) % 2 == 0,\n",
    "    \"010\": lambda i, j: ((i + j) % 2 + (i * j) % 3) % 2 == 0,\n",
    "    \"011\": lambda i, j: ((i * j) % 2 + (i * j) % 3) % 2 == 0,\n",
    "    \"100\": lambda i, j: i % 2 == 0,\n",
    "    \"101\": lambda i, j: (i + j) % 2 == 0,\n",
    "    \"110\": lambda i, j: (i + j) % 3 == 0,\n",
    "    \"111\": lambda i, j: j % 3 == 0,\n",
    "}\n",
    "# Enum for the different directions of reading blocks in the QR code\n",
    "# The number indicates how many bytes are in this block\n",
    "UP8, UP4, DOWN8, DOWN4, CW8, CCW8 = range(6)"
   ]
  },
  {
   "cell_type": "code",
   "execution_count": 11,
   "metadata": {},
   "outputs": [],
   "source": [
    "# A more general apply_mask function (still works the same way)\n",
    "def apply_mask_general(data_start_i, data_start_j, data, mask, direction):\n",
    "    result = []\n",
    "    row_offsets = []\n",
    "    col_offsets = []\n",
    "    mask_str = ''.join([str(c) for c in mask])\n",
    "    if (direction in [UP8, UP4]):\n",
    "        row_offsets = [0,  0, -1, -1, -2, -2, -3, -3]\n",
    "        col_offsets = [0, -1,  0, -1,  0, -1,  0, -1]\n",
    "    if (direction in [DOWN8, DOWN4]):\n",
    "        row_offsets = [0,  0,  1,  1,  2,  2,  3,  3]\n",
    "        col_offsets = [0, -1,  0, -1,  0, -1,  0, -1]\n",
    "    if (direction == CW8):\n",
    "        row_offsets = [0,  0,  1,  1,  1,  1,  0,  0]\n",
    "        col_offsets = [0, -1,  0, -1, -2, -3, -2, -3]\n",
    "    if (direction == CCW8):\n",
    "        row_offsets = [0,  0, -1, -1, -1, -1,  0,  0]\n",
    "        col_offsets = [0, -1,  0, -1, -2, -3, -2, -3]\n",
    "    for i, j in zip(row_offsets, col_offsets):\n",
    "        cell_bit = bool(data[data_start_i+i, data_start_j+j])\n",
    "        mask_bit = MASKS[mask_str](data_start_i+i, data_start_j+j)\n",
    "        # Modules corresponding to the dark areas of the mask are inverted.\n",
    "        result.append(int(not cell_bit if mask_bit else cell_bit))\n",
    "    return result[:4] if direction in [UP4, DOWN4] else result"
   ]
  },
  {
   "cell_type": "code",
   "execution_count": 12,
   "metadata": {},
   "outputs": [
    {
     "name": "stdout",
     "output_type": "stream",
     "text": [
      "ECL = [0 0]\n",
      "MASK = [0 0 0]\n",
      "ENC = [1, 0, 0, 0]\n",
      "LEN = [1, 1, 1, 1, 0, 1, 0, 1] = 245 data symbols, each consisting of 8 bits\n"
     ]
    }
   ],
   "source": [
    "img4_21x21_grid_inv = 1 - img_4_21x21_grid\n",
    "ecl = img4_21x21_grid_inv[8, 0:2]\n",
    "mask = img4_21x21_grid_inv[8, 2:5]\n",
    "enc_bits = apply_mask_general(21-1, 21-1, img4_21x21_grid_inv, mask, UP4)\n",
    "len_bits = apply_mask_general(21-3, 21-1, img4_21x21_grid_inv, mask, UP8)\n",
    "len_int = int(''.join([str(bit) for bit in len_bits]), 2)\n",
    "print(f'ECL = {ecl}\\nMASK = {mask}\\nENC = {enc_bits}\\nLEN = {len_bits} = {len_int} data symbols, each consisting of 8 bits')"
   ]
  },
  {
   "cell_type": "code",
   "execution_count": 13,
   "metadata": {},
   "outputs": [],
   "source": [
    "block_starting_indices = [\n",
    "    [21-7,  21-1,  UP8],\n",
    "    [21-11, 21-1,  CCW8],\n",
    "    [21-10, 21-3,  DOWN8],\n",
    "    [21-6,  21-3,  DOWN8],\n",
    "    [21-2,  21-3,  CW8],\n",
    "    [21-3,  21-5,  UP8],\n",
    "    [21-7,  21-5,  UP8],\n",
    "    [21-11, 21-5,  CCW8],\n",
    "    [21-10, 21-7,  DOWN8],\n",
    "    [21-6,  21-7,  DOWN8],\n",
    "    [21-2,  21-7,  CW8],\n",
    "    [21-3,  21-9,  UP8],\n",
    "    [21-7,  21-9,  UP8],\n",
    "    [21-11, 21-9,  UP8],\n",
    "    [21-16, 21-9,  UP8],\n",
    "    [21-20, 21-9,  CCW8],\n",
    "    [21-19, 21-11, DOWN8],\n",
    "    [21-14, 21-11, DOWN4],  # Special 4-byte block, reserved for END (if exists!)\n",
    "    [21-12, 21-11, DOWN8],\n",
    "    [21-8,  21-11, DOWN8],\n",
    "    [21-4,  21-11, DOWN8],\n",
    "    [21-9,  21-13, UP8],\n",
    "    [21-12, 21-16, DOWN8],\n",
    "    [21-9,  21-18, UP8],\n",
    "    [21-12, 21-20, DOWN8],\n",
    "]"
   ]
  },
  {
   "cell_type": "code",
   "execution_count": 16,
   "metadata": {},
   "outputs": [
    {
     "name": "stdout",
     "output_type": "stream",
     "text": [
      "00111001 (=057) = 9\n",
      "01010001 (=081) = Q\n",
      "11000010 (=194) = Â\n",
      "00011011 (=027) = \u001b\n",
      "01001111 (=079) = O\n",
      "11111100 (=252) = ü\n",
      "01010010 (=082) = R\n",
      "11111100 (=252) = ü\n",
      "10001000 (=136) = \n",
      "10110001 (=177) = ±\n",
      "00100100 (=036) = $\n",
      "11011011 (=219) = Û\n",
      "10110100 (=180) = ´\n",
      "11011100 (=220) = Ü\n",
      "00011111 (=031) = \u001f\n",
      "01111111 (=127) = \n",
      "00110110 (=054) = 6\n",
      "0101 (=005) = \u0005\n",
      "01100101 (=101) = e\n",
      "01101110 (=110) = n\n",
      "10010110 (=150) = \n",
      "10000001 (=129) = \n",
      "11001111 (=207) = Ï\n",
      "01011000 (=088) = X\n",
      "11111111 (=255) = ÿ\n"
     ]
    },
    {
     "ename": "IndexError",
     "evalue": "list index out of range",
     "output_type": "error",
     "traceback": [
      "\u001b[1;31m---------------------------------------------------------------------------\u001b[0m",
      "\u001b[1;31mIndexError\u001b[0m                                Traceback (most recent call last)",
      "Cell \u001b[1;32mIn[16], line 7\u001b[0m\n\u001b[0;32m      5\u001b[0m byte_index \u001b[38;5;241m=\u001b[39m \u001b[38;5;241m0\u001b[39m\n\u001b[0;32m      6\u001b[0m \u001b[38;5;28;01mfor\u001b[39;00m _ \u001b[38;5;129;01min\u001b[39;00m \u001b[38;5;28mrange\u001b[39m(len_int):\n\u001b[1;32m----> 7\u001b[0m     start_i, start_j, \u001b[38;5;28mdir\u001b[39m \u001b[38;5;241m=\u001b[39m \u001b[43mblock_starting_indices\u001b[49m\u001b[43m[\u001b[49m\u001b[43mbyte_index\u001b[49m\u001b[43m]\u001b[49m\n\u001b[0;32m      8\u001b[0m     bits \u001b[38;5;241m=\u001b[39m apply_mask_general(start_i, start_j, img4_21x21_grid_inv, mask, \u001b[38;5;28mdir\u001b[39m)\n\u001b[0;32m      9\u001b[0m     message_bits\u001b[38;5;241m.\u001b[39mextend(bits)\n",
      "\u001b[1;31mIndexError\u001b[0m: list index out of range"
     ]
    }
   ],
   "source": [
    "message_bits = []\n",
    "message_bits.extend(enc_bits)\n",
    "message_bits.extend(len_bits)\n",
    "# First, let's read the data bytes, starting from the very first byte after enc and len\n",
    "byte_index = 0\n",
    "for _ in range(len_int):\n",
    "    start_i, start_j, dir = block_starting_indices[byte_index]\n",
    "    bits = apply_mask_general(start_i, start_j, img4_21x21_grid_inv, mask, dir)\n",
    "    message_bits.extend(bits)\n",
    "    bit_string = ''.join([str(bit) for bit in bits])\n",
    "    alpha_char = chr(int(bit_string, 2))\n",
    "    print(f'{bit_string} (={int(bit_string, 2):03d}) = {alpha_char}')\n",
    "    byte_index += 1\n",
    "# After finishing all the characters, the next 4 bits are expected to be '0000'\n",
    "start_i, start_j, dir = block_starting_indices[byte_index]\n",
    "bits = apply_mask_general(start_i, start_j, img4_21x21_grid_inv, mask, dir)\n",
    "message_bits.extend(bits)\n",
    "bit_string = ''.join([str(bit) for bit in bits])\n",
    "print(f'{bit_string} (=END) -- the NULL TERMINATOR, followed by padding and/or ECC')\n",
    "byte_index += 1\n",
    "# Let's see what the bytes that follow look like\n",
    "# There supposedly remain 25-len-1 bytes to be read\n",
    "for _ in range(25 - len_int - 1):\n",
    "    start_i, start_j, dir = block_starting_indices[byte_index]\n",
    "    bits = apply_mask_general(start_i, start_j, img4_21x21_grid_inv, mask, dir)\n",
    "    message_bits.extend(bits)\n",
    "    bit_string = ''.join([str(bit) for bit in bits])\n",
    "    alpha_char = chr(int(bit_string, 2))\n",
    "    print(f'{bit_string} (={int(bit_string, 2):03d}) = {alpha_char}')\n",
    "    byte_index += 1"
   ]
  }
 ],
 "metadata": {
  "kernelspec": {
   "display_name": "Python 3",
   "language": "python",
   "name": "python3"
  },
  "language_info": {
   "codemirror_mode": {
    "name": "ipython",
    "version": 3
   },
   "file_extension": ".py",
   "mimetype": "text/x-python",
   "name": "python",
   "nbconvert_exporter": "python",
   "pygments_lexer": "ipython3",
   "version": "3.11.3"
  }
 },
 "nbformat": 4,
 "nbformat_minor": 2
}
