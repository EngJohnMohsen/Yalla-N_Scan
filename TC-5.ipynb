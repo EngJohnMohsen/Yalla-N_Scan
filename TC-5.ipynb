{
 "cells": [
  {
   "cell_type": "code",
   "execution_count": 1,
   "metadata": {},
   "outputs": [],
   "source": [
    "import cv2\n",
    "import numpy as np\n",
    "import matplotlib.pyplot as plt\n",
    "import reedsolo as rs\n",
    "from reedsolo import ReedSolomonError"
   ]
  },
  {
   "cell_type": "code",
   "execution_count": 2,
   "metadata": {},
   "outputs": [],
   "source": [
    "def add_quiet_zone(qr_img, border_size = 20):\n",
    "    height, width = qr_img.shape\n",
    "    new_img = np.full((height + 2*border_size, width + 2*border_size), 255, dtype=np.uint8)\n",
    "    new_img[border_size:border_size + height, border_size:border_size + width] = qr_img\n",
    "    \n",
    "    return new_img"
   ]
  },
  {
   "cell_type": "code",
   "execution_count": 3,
   "metadata": {},
   "outputs": [
    {
     "data": {
      "image/png": "[encoded data removed]",
      "text/plain": [
       "<Figure size 500x500 with 1 Axes>"
      ]
     },
     "metadata": {},
     "output_type": "display_data"
    }
   ],
   "source": [
    "import cv2\n",
    "import numpy as np\n",
    "import matplotlib.pyplot as plt\n",
    "\n",
    "# Load the new image and convert to grayscale\n",
    "img_path = \"05-Caesar-cipher.png\"\n",
    "img = cv2.imread(img_path, cv2.IMREAD_GRAYSCALE)\n",
    "\n",
    "# Adjust the binarization threshold to improve quiet zone detection\n",
    "_, img_binary = cv2.threshold(img, 100, 255, cv2.THRESH_BINARY)\n",
    "\n",
    "# Reinitialize the start and end positions for rows and columns\n",
    "start_row = -1\n",
    "start_col = -1\n",
    "end_row = -1\n",
    "end_col = -1\n",
    "\n",
    "# Find the first black pixel in each row and column to set boundaries\n",
    "# Find start row\n",
    "for row_index in range(img_binary.shape[0]):\n",
    "    if any(img_binary[row_index] < 255):\n",
    "        start_row = row_index\n",
    "        break\n",
    "\n",
    "# Find end row\n",
    "for row_index in range(img_binary.shape[0] - 1, -1, -1):\n",
    "    if any(img_binary[row_index] < 255):\n",
    "        end_row = row_index + 1\n",
    "        break\n",
    "\n",
    "# Find start column\n",
    "for col_index in range(img_binary.shape[1]):\n",
    "    if any(img_binary[:, col_index] < 255):\n",
    "        start_col = col_index\n",
    "        break\n",
    "\n",
    "# Find end column\n",
    "for col_index in range(img_binary.shape[1] - 1, -1, -1):\n",
    "    if any(img_binary[:, col_index] < 255):\n",
    "        end_col = col_index + 1\n",
    "        break\n",
    "\n",
    "# Check if the boundaries are valid\n",
    "if (start_row >= 0 and end_row > start_row) and (start_col >= 0 and end_col > start_col):\n",
    "    # Crop the image using the detected boundaries\n",
    "    qr_no_quiet_zone = img_binary[start_row:end_row, start_col:end_col]\n",
    "\n",
    "    qr_with_quiet_zone = add_quiet_zone(qr_no_quiet_zone, 20)\n",
    "\n",
    "    # Display the QR code without the quiet zone\n",
    "    fig = plt.figure(figsize=(5, 5))\n",
    "    plt.xticks([], [])\n",
    "    plt.yticks([], [])\n",
    "    #plt.title(\"QR code with quiet zone\")\n",
    "    #plt.imshow(qr_no_quiet_zone, cmap=\"gray\")\n",
    "    plt.imshow(qr_with_quiet_zone, cmap=\"gray\")  # Display the corrected image\n",
    "else:\n",
    "    print(\"Error: Could not find valid boundaries. Please check the image or preprocessing.\")"
   ]
  },
  {
   "cell_type": "code",
   "execution_count": 4,
   "metadata": {},
   "outputs": [
    {
     "name": "stdout",
     "output_type": "stream",
     "text": [
      "(21, 21)\n"
     ]
    },
    {
     "data": {
      "image/png": "[encoded data removed]",
      "text/plain": [
       "<Figure size 300x300 with 1 Axes>"
      ]
     },
     "metadata": {},
     "output_type": "display_data"
    }
   ],
   "source": [
    "img = cv2.imread(\"05-Caesar-cipher.png\", cv2.IMREAD_GRAYSCALE)\n",
    "\n",
    "start_row = -1\n",
    "start_col = -1\n",
    "end_row = -1\n",
    "end_col = -1\n",
    "\n",
    "for row_index, row in enumerate(img):\n",
    "    if (row != 255).any():\n",
    "        start_row = row_index\n",
    "        break\n",
    "\n",
    "for row_index, row in enumerate(img[::-1]):\n",
    "    if (row != 255).any():\n",
    "        end_row = img.shape[0] - row_index\n",
    "        break\n",
    "\n",
    "for col_index, col in enumerate(cv2.transpose(img)):\n",
    "    if (col != 255).any():\n",
    "        start_col = col_index\n",
    "        break\n",
    "\n",
    "for col_index, col in enumerate(cv2.transpose(img)[::-1]):\n",
    "    if (col != 255).any():\n",
    "        end_col = img.shape[1] - col_index\n",
    "        break\n",
    "\n",
    "img_no_quiet_zone = img[start_row:end_row, start_col:end_col]\n",
    "\n",
    "img_21x21_grid = cv2.resize(img_no_quiet_zone, (21, 21), interpolation=cv2.INTER_NEAREST) // 255\n",
    "\n",
    "fig = plt.figure(figsize=(3, 3));\n",
    "plt.xticks([], []);\n",
    "plt.yticks([], []);\n",
    "plt.imshow(img_21x21_grid, cmap='gray');\n",
    "print(img_21x21_grid.shape)"
   ]
  },
  {
   "cell_type": "code",
   "execution_count": 5,
   "metadata": {},
   "outputs": [],
   "source": [
    "MASKS = {\n",
    "    \"000\": lambda i, j: (i * j) % 2 + (i * j) % 3 == 0,\n",
    "    \"001\": lambda i, j: (i // 2 + j // 3) % 2 == 0,\n",
    "    \"010\": lambda i, j: ((i + j) % 2 + (i * j) % 3) % 2 == 0,\n",
    "    \"011\": lambda i, j: ((i * j) % 2 + (i * j) % 3) % 2 == 0,\n",
    "    \"100\": lambda i, j: i % 2 == 0,\n",
    "    \"101\": lambda i, j: (i + j) % 2 == 0,\n",
    "    \"110\": lambda i, j: (i + j) % 3 == 0,\n",
    "    \"111\": lambda i, j: j % 3 == 0,\n",
    "}\n",
    "\n",
    "UP8, UP4, DOWN8, DOWN4, CW8, CCW8 = range(6)"
   ]
  },
  {
   "cell_type": "code",
   "execution_count": 6,
   "metadata": {},
   "outputs": [],
   "source": [
    "# A more general apply_mask function (still works the same way)\n",
    "def apply_mask_general(data_start_i, data_start_j, data, mask, direction):\n",
    "    result = []\n",
    "    row_offsets = []\n",
    "    col_offsets = []\n",
    "    mask_str = ''.join([str(c) for c in mask])\n",
    "    if (direction in [UP8, UP4]):\n",
    "        row_offsets = [0,  0, -1, -1, -2, -2, -3, -3]\n",
    "        col_offsets = [0, -1,  0, -1,  0, -1,  0, -1]\n",
    "    if (direction in [DOWN8, DOWN4]):\n",
    "        row_offsets = [0,  0,  1,  1,  2,  2,  3,  3]\n",
    "        col_offsets = [0, -1,  0, -1,  0, -1,  0, -1]\n",
    "    if (direction == CW8):\n",
    "        row_offsets = [0,  0,  1,  1,  1,  1,  0,  0]\n",
    "        col_offsets = [0, -1,  0, -1, -2, -3, -2, -3]\n",
    "    if (direction == CCW8):\n",
    "        row_offsets = [0,  0, -1, -1, -1, -1,  0,  0]\n",
    "        col_offsets = [0, -1,  0, -1, -2, -3, -2, -3]\n",
    "    for i, j in zip(row_offsets, col_offsets):\n",
    "        cell_bit = bool(data[data_start_i+i, data_start_j+j])\n",
    "        mask_bit = MASKS[mask_str](data_start_i+i, data_start_j+j)\n",
    "        # Modules corresponding to the dark areas of the mask are inverted.\n",
    "        result.append(int(not cell_bit if mask_bit else cell_bit))\n",
    "    return result[:4] if direction in [UP4, DOWN4] else result"
   ]
  },
  {
   "cell_type": "code",
   "execution_count": 7,
   "metadata": {},
   "outputs": [
    {
     "name": "stdout",
     "output_type": "stream",
     "text": [
      "ECL = [0 1]\n",
      "MASK = [1 1 0]\n",
      "ENC = [1, 0, 1, 1]\n",
      "LEN = [1, 0, 0, 0, 1, 0, 0, 0] = 136 data symbols, each consisting of 8 bits\n"
     ]
    }
   ],
   "source": [
    "img_21x21_grid_inv = 1 - img_21x21_grid\n",
    "ecl = img_21x21_grid_inv[8, 0:2]\n",
    "mask = img_21x21_grid_inv[8, 2:5]\n",
    "enc_bits = apply_mask_general(21-1, 21-1, img_21x21_grid_inv, mask, UP4)\n",
    "len_bits = apply_mask_general(21-3, 21-1, img_21x21_grid_inv, mask, UP8)\n",
    "len_int = int(''.join([str(bit) for bit in len_bits]), 2)\n",
    "print(f'ECL = {ecl}\\nMASK = {mask}\\nENC = {enc_bits}\\nLEN = {len_bits} = {len_int} data symbols, each consisting of 8 bits')"
   ]
  },
  {
   "cell_type": "code",
   "execution_count": 8,
   "metadata": {},
   "outputs": [],
   "source": [
    "block_starting_indices = [\n",
    "    [21-7,  21-1,  UP8],\n",
    "    [21-11, 21-1,  CCW8],\n",
    "    [21-10, 21-3,  DOWN8],\n",
    "    [21-6,  21-3,  DOWN8],\n",
    "    [21-2,  21-3,  CW8],\n",
    "    [21-3,  21-5,  UP8],\n",
    "    [21-7,  21-5,  UP8],\n",
    "    [21-11, 21-5,  CCW8],\n",
    "    [21-10, 21-7,  DOWN8],\n",
    "    [21-6,  21-7,  DOWN8],\n",
    "    [21-2,  21-7,  CW8],\n",
    "    [21-3,  21-9,  UP8],\n",
    "    [21-7,  21-9,  UP8],\n",
    "    [21-11, 21-9,  UP8],\n",
    "    [21-16, 21-9,  UP8],\n",
    "    [21-20, 21-9,  CCW8],\n",
    "    [21-19, 21-11, DOWN8],\n",
    "    [21-14, 21-11, DOWN4],  # Special 4-byte block, reserved for END (if exists!)\n",
    "    [21-12, 21-11, DOWN8],\n",
    "    [21-8,  21-11, DOWN8],\n",
    "    [21-4,  21-11, DOWN8],\n",
    "    [21-9,  21-13, UP8],\n",
    "    [21-12, 21-16, DOWN8],\n",
    "    [21-9,  21-18, UP8],\n",
    "    [21-12, 21-20, DOWN8],\n",
    "]"
   ]
  },
  {
   "cell_type": "code",
   "execution_count": 9,
   "metadata": {},
   "outputs": [
    {
     "name": "stdout",
     "output_type": "stream",
     "text": [
      "10010110 (=150) = \n",
      "00100110 (=038) = &\n",
      "00011001 (=025) = \u0019\n",
      "10100011 (=163) = £\n",
      "01011011 (=091) = [\n",
      "11000101 (=197) = Å\n",
      "00101101 (=045) = -\n",
      "11101001 (=233) = é\n",
      "10110101 (=181) = µ\n",
      "11011100 (=220) = Ü\n",
      "10111001 (=185) = ¹\n",
      "00001000 (=008) =\n",
      "10101101 (=173) = ­\n",
      "00011111 (=031) = \u001f\n",
      "01110111 (=119) = w\n",
      "10100101 (=165) = ¥\n",
      "00001010 (=010) = \n",
      "\n",
      "1001 (=009) = \t\n",
      "10001100 (=140) = \n",
      "11110011 (=243) = ó\n",
      "11001111 (=207) = Ï\n",
      "11100111 (=231) = ç\n",
      "11011011 (=219) = Û\n",
      "01010101 (=085) = U\n",
      "11000011 (=195) = Ã\n"
     ]
    },
    {
     "ename": "IndexError",
     "evalue": "list index out of range",
     "output_type": "error",
     "traceback": [
      "\u001b[1;31m---------------------------------------------------------------------------\u001b[0m",
      "\u001b[1;31mIndexError\u001b[0m                                Traceback (most recent call last)",
      "Cell \u001b[1;32mIn[9], line 7\u001b[0m\n\u001b[0;32m      5\u001b[0m byte_index \u001b[38;5;241m=\u001b[39m \u001b[38;5;241m0\u001b[39m\n\u001b[0;32m      6\u001b[0m \u001b[38;5;28;01mfor\u001b[39;00m _ \u001b[38;5;129;01min\u001b[39;00m \u001b[38;5;28mrange\u001b[39m(len_int):\n\u001b[1;32m----> 7\u001b[0m     start_i, start_j, \u001b[38;5;28mdir\u001b[39m \u001b[38;5;241m=\u001b[39m \u001b[43mblock_starting_indices\u001b[49m\u001b[43m[\u001b[49m\u001b[43mbyte_index\u001b[49m\u001b[43m]\u001b[49m\n\u001b[0;32m      8\u001b[0m     bits \u001b[38;5;241m=\u001b[39m apply_mask_general(start_i, start_j, img_21x21_grid_inv, mask, \u001b[38;5;28mdir\u001b[39m)\n\u001b[0;32m      9\u001b[0m     message_bits\u001b[38;5;241m.\u001b[39mextend(bits)\n",
      "\u001b[1;31mIndexError\u001b[0m: list index out of range"
     ]
    }
   ],
   "source": [
    "message_bits = []\n",
    "message_bits.extend(enc_bits)\n",
    "message_bits.extend(len_bits)\n",
    "# First, let's read the data bytes, starting from the very first byte after enc and len\n",
    "byte_index = 0\n",
    "for _ in range(len_int):\n",
    "    start_i, start_j, dir = block_starting_indices[byte_index]\n",
    "    bits = apply_mask_general(start_i, start_j, img_21x21_grid_inv, mask, dir)\n",
    "    message_bits.extend(bits)\n",
    "    bit_string = ''.join([str(bit) for bit in bits])\n",
    "    alpha_char = chr(int(bit_string, 2))\n",
    "    print(f'{bit_string} (={int(bit_string, 2):03d}) = {alpha_char}')\n",
    "    byte_index += 1\n",
    "# After finishing all the characters, the next 4 bits are expected to be '0000'\n",
    "start_i, start_j, dir = block_starting_indices[byte_index]\n",
    "bits = apply_mask_general(start_i, start_j, img_21x21_grid_inv, mask, dir)\n",
    "message_bits.extend(bits)\n",
    "bit_string = ''.join([str(bit) for bit in bits])\n",
    "print(f'{bit_string} (=END) -- the NULL TERMINATOR, followed by padding and/or ECC')\n",
    "byte_index += 1\n",
    "# Let's see what the bytes that follow look like\n",
    "# There supposedly remain 25-len-1 bytes to be read\n",
    "for _ in range(25 - len_int - 1):\n",
    "    start_i, start_j, dir = block_starting_indices[byte_index]\n",
    "    bits = apply_mask_general(start_i, start_j, img_21x21_grid_inv, mask, dir)\n",
    "    message_bits.extend(bits)\n",
    "    bit_string = ''.join([str(bit) for bit in bits])\n",
    "    alpha_char = chr(int(bit_string, 2))\n",
    "    print(f'{bit_string} (={int(bit_string, 2):03d}) = {alpha_char}')\n",
    "    byte_index += 1"
   ]
  }
 ],
 "metadata": {
  "kernelspec": {
   "display_name": "Python 3",
   "language": "python",
   "name": "python3"
  },
  "language_info": {
   "codemirror_mode": {
    "name": "ipython",
    "version": 3
   },
   "file_extension": ".py",
   "mimetype": "text/x-python",
   "name": "python",
   "nbconvert_exporter": "python",
   "pygments_lexer": "ipython3",
   "version": "3.11.3"
  }
 },
 "nbformat": 4,
 "nbformat_minor": 2
}
