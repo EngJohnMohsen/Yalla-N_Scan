{
 "cells": [
  {
   "cell_type": "code",
   "execution_count": 1,
   "metadata": {},
   "outputs": [],
   "source": [
    "import cv2\n",
    "import numpy as np\n",
    "import matplotlib.pyplot as plt\n",
    "import reedsolo as rs\n",
    "from reedsolo import ReedSolomonError"
   ]
  },
  {
   "cell_type": "code",
   "execution_count": 2,
   "metadata": {},
   "outputs": [
    {
     "data": {
      "image/png": "[encoded data removed]",
      "text/plain": [
       "<Figure size 600x600 with 1 Axes>"
      ]
     },
     "metadata": {},
     "output_type": "display_data"
    }
   ],
   "source": [
    "image_path = \"07-THE-MIGHTY-FINGER.png\"\n",
    "image = cv2.imread(image_path, cv2.IMREAD_COLOR)\n",
    "\n",
    "# Convert to grayscale to focus on intensity rather than color for mask creation\n",
    "gray = cv2.cvtColor(image, cv2.COLOR_BGR2GRAY)\n",
    "\n",
    "# Create a mask where the grayscale value is close to the color of the thumb\n",
    "_, mask = cv2.threshold(gray, 180, 255, cv2.THRESH_BINARY_INV)\n",
    "\n",
    "# Morphological operations to clean up the mask\n",
    "kernel = np.ones((5, 5), np.uint8)\n",
    "mask = cv2.dilate(mask, kernel, iterations=1)  # Dilate to cover all the obscured parts\n",
    "mask = cv2.erode(mask, kernel, iterations=2)   # Erode to refine the edges of the mask\n",
    "\n",
    "# Perform inpainting\n",
    "inpainted_image = cv2.inpaint(image, mask, 3, cv2.INPAINT_TELEA)\n",
    "\n",
    "# Convert to binary for QR readability\n",
    "gray_inpainted = cv2.cvtColor(inpainted_image, cv2.COLOR_BGR2GRAY)\n",
    "_, final_scan_ready = cv2.threshold(gray_inpainted, 127, 255, cv2.THRESH_BINARY)\n",
    "\n",
    "# Display the inpainted and ready-to-scan image\n",
    "plt.figure(figsize=(6, 6))\n",
    "plt.imshow(final_scan_ready, cmap='gray')\n",
    "plt.axis('off')\n",
    "plt.show()"
   ]
  },
  {
   "cell_type": "code",
   "execution_count": 3,
   "metadata": {},
   "outputs": [
    {
     "name": "stdout",
     "output_type": "stream",
     "text": [
      "(21, 21)\n"
     ]
    },
    {
     "data": {
      "image/png": "[encoded data removed]",
      "text/plain": [
       "<Figure size 300x300 with 1 Axes>"
      ]
     },
     "metadata": {},
     "output_type": "display_data"
    }
   ],
   "source": [
    "img = cv2.imread(\"07-THE-MIGHTY-FINGER.png\", cv2.IMREAD_GRAYSCALE)\n",
    "\n",
    "start_row = -1\n",
    "start_col = -1\n",
    "end_row = -1\n",
    "end_col = -1\n",
    "\n",
    "for row_index, row in enumerate(img):\n",
    "    if (row != 255).any():\n",
    "        start_row = row_index\n",
    "        break\n",
    "\n",
    "for row_index, row in enumerate(img[::-1]):\n",
    "    if (row != 255).any():\n",
    "        end_row = img.shape[0] - row_index\n",
    "        break\n",
    "\n",
    "for col_index, col in enumerate(cv2.transpose(img)):\n",
    "    if (col != 255).any():\n",
    "        start_col = col_index\n",
    "        break\n",
    "\n",
    "for col_index, col in enumerate(cv2.transpose(img)[::-1]):\n",
    "    if (col != 255).any():\n",
    "        end_col = img.shape[1] - col_index\n",
    "        break\n",
    "\n",
    "img_no_quiet_zone = img[start_row:end_row, start_col:end_col]\n",
    "\n",
    "img_21x21_grid = cv2.resize(img_no_quiet_zone, (21, 21), interpolation=cv2.INTER_NEAREST) // 255\n",
    "\n",
    "fig = plt.figure(figsize=(3, 3));\n",
    "plt.xticks([], []);\n",
    "plt.yticks([], []);\n",
    "plt.imshow(img_21x21_grid, cmap='gray');\n",
    "print(img_21x21_grid.shape)"
   ]
  },
  {
   "cell_type": "code",
   "execution_count": 4,
   "metadata": {},
   "outputs": [],
   "source": [
    "MASKS = {\n",
    "    \"000\": lambda i, j: (i * j) % 2 + (i * j) % 3 == 0,\n",
    "    \"001\": lambda i, j: (i // 2 + j // 3) % 2 == 0,\n",
    "    \"010\": lambda i, j: ((i + j) % 2 + (i * j) % 3) % 2 == 0,\n",
    "    \"011\": lambda i, j: ((i * j) % 2 + (i * j) % 3) % 2 == 0,\n",
    "    \"100\": lambda i, j: i % 2 == 0,\n",
    "    \"101\": lambda i, j: (i + j) % 2 == 0,\n",
    "    \"110\": lambda i, j: (i + j) % 3 == 0,\n",
    "    \"111\": lambda i, j: j % 3 == 0,\n",
    "}\n",
    "\n",
    "UP8, UP4, DOWN8, DOWN4, CW8, CCW8 = range(6)"
   ]
  },
  {
   "cell_type": "code",
   "execution_count": 5,
   "metadata": {},
   "outputs": [],
   "source": [
    "def apply_mask_general(data_start_i, data_start_j, data, mask, direction):\n",
    "    result = []\n",
    "    row_offsets = []\n",
    "    col_offsets = []\n",
    "    mask_str = ''.join([str(c) for c in mask])\n",
    "    if (direction in [UP8, UP4]):\n",
    "        row_offsets = [0,  0, -1, -1, -2, -2, -3, -3]\n",
    "        col_offsets = [0, -1,  0, -1,  0, -1,  0, -1]\n",
    "    if (direction in [DOWN8, DOWN4]):\n",
    "        row_offsets = [0,  0,  1,  1,  2,  2,  3,  3]\n",
    "        col_offsets = [0, -1,  0, -1,  0, -1,  0, -1]\n",
    "    if (direction == CW8):\n",
    "        row_offsets = [0,  0,  1,  1,  1,  1,  0,  0]\n",
    "        col_offsets = [0, -1,  0, -1, -2, -3, -2, -3]\n",
    "    if (direction == CCW8):\n",
    "        row_offsets = [0,  0, -1, -1, -1, -1,  0,  0]\n",
    "        col_offsets = [0, -1,  0, -1, -2, -3, -2, -3]\n",
    "    for i, j in zip(row_offsets, col_offsets):\n",
    "        cell_bit = bool(data[data_start_i+i, data_start_j+j])\n",
    "        mask_bit = MASKS[mask_str](data_start_i+i, data_start_j+j)\n",
    "       \n",
    "        result.append(int(not cell_bit if mask_bit else cell_bit))\n",
    "    return result[:4] if direction in [UP4, DOWN4] else result"
   ]
  },
  {
   "cell_type": "code",
   "execution_count": 6,
   "metadata": {},
   "outputs": [
    {
     "name": "stdout",
     "output_type": "stream",
     "text": [
      "ECL = [1 1]\n",
      "MASK = [1 1 1]\n",
      "ENC = [0, 1, 0, 1]\n",
      "LEN = [0, 0, 0, 0, 0, 0, 1, 1] = 3 data symbols, each consisting of 8 bits\n"
     ]
    }
   ],
   "source": [
    "img_21x21_grid_inv = 1 - img_21x21_grid\n",
    "ecl = img_21x21_grid_inv[8, 0:2]\n",
    "mask = img_21x21_grid_inv[8, 2:5]\n",
    "enc_bits = apply_mask_general(21-1, 21-1, img_21x21_grid_inv, mask, UP4)\n",
    "len_bits = apply_mask_general(21-3, 21-1, img_21x21_grid_inv, mask, UP8)\n",
    "len_int = int(''.join([str(bit) for bit in len_bits]), 2)\n",
    "print(f'ECL = {ecl}\\nMASK = {mask}\\nENC = {enc_bits}\\nLEN = {len_bits} = {len_int} data symbols, each consisting of 8 bits')"
   ]
  },
  {
   "cell_type": "code",
   "execution_count": 7,
   "metadata": {},
   "outputs": [],
   "source": [
    "block_starting_indices = [\n",
    "    [21-7,  21-1,  UP8],\n",
    "    [21-11, 21-1,  CCW8],\n",
    "    [21-10, 21-3,  DOWN8],\n",
    "    [21-6,  21-3,  DOWN8],\n",
    "    [21-2,  21-3,  CW8],\n",
    "    [21-3,  21-5,  UP8],\n",
    "    [21-7,  21-5,  UP8],\n",
    "    [21-11, 21-5,  CCW8],\n",
    "    [21-10, 21-7,  DOWN8],\n",
    "    [21-6,  21-7,  DOWN8],\n",
    "    [21-2,  21-7,  CW8],\n",
    "    [21-3,  21-9,  UP8],\n",
    "    [21-7,  21-9,  UP8],\n",
    "    [21-11, 21-9,  UP8],\n",
    "    [21-16, 21-9,  UP8],\n",
    "    [21-20, 21-9,  CCW8],\n",
    "    [21-19, 21-11, DOWN8],\n",
    "    [21-14, 21-11, DOWN4],  \n",
    "    [21-12, 21-11, DOWN8],\n",
    "    [21-8,  21-11, DOWN8],\n",
    "    [21-4,  21-11, DOWN8],\n",
    "    [21-9,  21-13, UP8],\n",
    "    [21-12, 21-16, DOWN8],\n",
    "    [21-9,  21-18, UP8],\n",
    "    [21-12, 21-20, DOWN8],\n",
    "]"
   ]
  },
  {
   "cell_type": "code",
   "execution_count": 8,
   "metadata": {},
   "outputs": [
    {
     "name": "stdout",
     "output_type": "stream",
     "text": [
      "11000101 (=197) = Å\n",
      "01100000 (=096) = `\n",
      "01110101 (=117) = u\n",
      "10000100 (=END) -- the NULL TERMINATOR, followed by padding and/or ECC\n",
      "10110111 (=183) = ·\n",
      "11010111 (=215) = ×\n",
      "00100101 (=037) = %\n",
      "10111111 (=191) = ¿\n",
      "00100011 (=035) = #\n",
      "11000110 (=198) = Æ\n",
      "11100111 (=231) = ç\n",
      "00001110 (=014) = \u000e\n",
      "11011001 (=217) = Ù\n",
      "10100111 (=167) = §\n",
      "01001000 (=072) = H\n",
      "10100111 (=167) = §\n",
      "00110001 (=049) = 1\n",
      "0001 (=001) = \u0001\n",
      "10101000 (=168) = ¨\n",
      "01001001 (=073) = I\n",
      "10100000 (=160) =  \n",
      "10111011 (=187) = »\n",
      "11110111 (=247) = ÷\n",
      "00000101 (=005) = \u0005\n",
      "11111111 (=255) = ÿ\n"
     ]
    }
   ],
   "source": [
    "message_bits = []\n",
    "message_bits.extend(enc_bits)\n",
    "message_bits.extend(len_bits)\n",
    "\n",
    "byte_index = 0\n",
    "for _ in range(len_int):\n",
    "    start_i, start_j, dir = block_starting_indices[byte_index]\n",
    "    bits = apply_mask_general(start_i, start_j, img_21x21_grid_inv, mask, dir)\n",
    "    message_bits.extend(bits)\n",
    "    bit_string = ''.join([str(bit) for bit in bits])\n",
    "    alpha_char = chr(int(bit_string, 2))\n",
    "    print(f'{bit_string} (={int(bit_string, 2):03d}) = {alpha_char}')\n",
    "    byte_index += 1\n",
    "\n",
    "start_i, start_j, dir = block_starting_indices[byte_index]\n",
    "bits = apply_mask_general(start_i, start_j, img_21x21_grid_inv, mask, dir)\n",
    "message_bits.extend(bits)\n",
    "bit_string = ''.join([str(bit) for bit in bits])\n",
    "print(f'{bit_string} (=END) -- the NULL TERMINATOR, followed by padding and/or ECC')\n",
    "byte_index += 1\n",
    "\n",
    "for _ in range(25 - len_int - 1):\n",
    "    start_i, start_j, dir = block_starting_indices[byte_index]\n",
    "    bits = apply_mask_general(start_i, start_j, img_21x21_grid_inv, mask, dir)\n",
    "    message_bits.extend(bits)\n",
    "    bit_string = ''.join([str(bit) for bit in bits])\n",
    "    alpha_char = chr(int(bit_string, 2))\n",
    "    print(f'{bit_string} (={int(bit_string, 2):03d}) = {alpha_char}')\n",
    "    byte_index += 1"
   ]
  }
 ],
 "metadata": {
  "kernelspec": {
   "display_name": "Python 3",
   "language": "python",
   "name": "python3"
  },
  "language_info": {
   "codemirror_mode": {
    "name": "ipython",
    "version": 3
   },
   "file_extension": ".py",
   "mimetype": "text/x-python",
   "name": "python",
   "nbconvert_exporter": "python",
   "pygments_lexer": "ipython3",
   "version": "3.11.3"
  }
 },
 "nbformat": 4,
 "nbformat_minor": 2
}
